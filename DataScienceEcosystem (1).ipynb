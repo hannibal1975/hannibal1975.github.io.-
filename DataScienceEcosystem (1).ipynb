{
 "cells": [
  {
   "cell_type": "markdown",
   "id": "4b50d09f",
   "metadata": {},
   "source": [
    "# Data Science Tools and Ecosystem "
   ]
  },
  {
   "cell_type": "markdown",
   "id": "ebfb9be0",
   "metadata": {},
   "source": [
    "In this notebook, Data Science Tools and Ecosystem are summerized"
   ]
  },
  {
   "cell_type": "markdown",
   "id": "bf432d8c",
   "metadata": {},
   "source": [
    "**Objectives**\n",
    "- List popular languages for data science \n",
    "- Simple arithmetic expressions \n",
    "- commonly used libraries by data Scientists\n",
    "- Data Science tools"
   ]
  },
  {
   "cell_type": "markdown",
   "id": "ad0f257e",
   "metadata": {},
   "source": [
    "Some of the popular languages that Data scientists use are\n",
    "\n",
    "1. Jupyter Notebook\n",
    "\n",
    "2. Python\n",
    "\n",
    "3. SQL(Structured Query Language)\n",
    "\n",
    "4. Scala\n",
    "\n",
    "5. R"
   ]
  },
  {
   "cell_type": "markdown",
   "id": "e4a7e583",
   "metadata": {},
   "source": [
    "Some of the commonly used libraries used by data Scientists include\n",
    "\n",
    "1. Pandas\n",
    "2. Matplotlib\n",
    "3. Seaborn\n",
    "4. Tensflow\n",
    "5. Apache Spark\n",
    "6. PyTorch\n",
    "7. Keras"
   ]
  },
  {
   "cell_type": "markdown",
   "id": "ce06ae06",
   "metadata": {},
   "source": [
    "| Data Science Tools                 ||     \n",
    "|--------------------|----------------|\n",
    "| MATLAB             |                |\n",
    "| EXCEL              |                |\n",
    "| Tensflow           |                |\n",
    "| Tableau            |                |"
   ]
  },
  {
   "cell_type": "markdown",
   "id": "3d706871",
   "metadata": {},
   "source": [
    "### Below are a few examples of evaluating arithmetic expressions in python"
   ]
  },
  {
   "cell_type": "code",
   "execution_count": 2,
   "id": "5c60f7db",
   "metadata": {},
   "outputs": [
    {
     "data": {
      "text/plain": [
       "17"
      ]
     },
     "execution_count": 2,
     "metadata": {},
     "output_type": "execute_result"
    }
   ],
   "source": [
    "#simple arithmetic expression to multiply then add intergers\n",
    "(3*4)+5"
   ]
  },
  {
   "cell_type": "code",
   "execution_count": 3,
   "id": "20fe4aba",
   "metadata": {},
   "outputs": [
    {
     "data": {
      "text/plain": [
       "3.3333333333333335"
      ]
     },
     "execution_count": 3,
     "metadata": {},
     "output_type": "execute_result"
    }
   ],
   "source": [
    "#This will convert 200 minutes to hours by dividing by 60\n",
    "200/60"
   ]
  },
  {
   "cell_type": "markdown",
   "id": "f0bab0bf",
   "metadata": {},
   "source": [
    "## Author"
   ]
  },
  {
   "cell_type": "markdown",
   "id": "e0593ee0",
   "metadata": {},
   "source": [
    "HANNIBAL KIMANI"
   ]
  },
  {
   "cell_type": "code",
   "execution_count": null,
   "id": "b98b83a2",
   "metadata": {},
   "outputs": [],
   "source": []
  }
 ],
 "metadata": {
  "kernelspec": {
   "display_name": "Python 3 (ipykernel)",
   "language": "python",
   "name": "python3"
  },
  "language_info": {
   "codemirror_mode": {
    "name": "ipython",
    "version": 3
   },
   "file_extension": ".py",
   "mimetype": "text/x-python",
   "name": "python",
   "nbconvert_exporter": "python",
   "pygments_lexer": "ipython3",
   "version": "3.9.13"
  }
 },
 "nbformat": 4,
 "nbformat_minor": 5
}
